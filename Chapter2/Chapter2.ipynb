{
 "cells": [
  {
   "cell_type": "code",
   "execution_count": 0,
   "metadata": {},
   "outputs": [],
   "source": [
    "X,y = make_blobs(centers=4,random_state=8)\n",
    "y = y%2\n",
    "mglearn.discrete_scatter(X[:,0],X[:,1],y)\n",
    "plt.xlabel(\"Feature 0\")\n",
    "plt.ylabel(\"Feature 1\")"
   ]
  },
  {
   "cell_type": "code",
   "execution_count": 0,
   "metadata": {},
   "outputs": [],
   "source": [
    "from sklearn.svm import LinearSVC\n",
    "linear_svm = LinearSVC().fit(X,y)\n",
    "mglearn.plots.plot_2d_separator(linear_svm,X)\n",
    "mglearn.discrete_scatter(X[:,0],X[:,1],y)\n",
    "plt.xlabel(\"Feature 0\")\n",
    "plt.ylabel(\"Feature 1\")"
   ]
  },
  {
   "cell_type": "code",
   "execution_count": 0,
   "metadata": {},
   "outputs": [],
   "source": [
    "X_new = np.hstack([X,X[:,1:]**2])\n",
    "from mpl_toolkits.mplot3d import Axes3D,axes3d\n",
    "figure = plt.figure()\n",
    "#3Dで可視化\n",
    "ax = Axes3D(figure,elev=-152,azim=-26)\n",
    "#y==0の点をプロットしてからy==1の点をプロット\n",
    "mask = y == 0\n",
    "ax.scatter(X_new[mask,0],X_new[mask,1],X_new[mask,2],c='b',cmap=mglearn.cm2,s=60)\n",
    "ax.scatter(X_new[~mask,0],X_new[~mask,1],X_new[~mask,2],c='r',marker='^',cmap=mglearn.cm2,s=60)\n",
    "ax.set_xlabel(\"feature0\")\n",
    "ax.set_ylabel(\"feature1\")\n",
    "ax.set_zlabel(\"feature1**2\")"
   ]
  },
  {
   "cell_type": "code",
   "execution_count": 0,
   "metadata": {},
   "outputs": [],
   "source": [
    "linear_svm_3d = LinearSVC().fit(X_new,y)\n",
    "coef,intercept = linear_svm_3d.coef_.ravel(),linear_svm_3d.intercept_\n",
    "\n",
    "#線形決定境界を描画\n",
    "figure = plt.figure()\n",
    "ax = Axes3D(figure,elev=-152,azim=-26)\n",
    "xx = np.linspace(X_new[:,0].min(),X_new[:,0].max()+2,50)\n",
    "yy = np.linspace(X_new[:,1].min()-2,X_new[:,1].max()+2,50)\n",
    "XX,YY = np.meshgrid(xx,yy)\n",
    "ZZ = (coef[0]*XX + coef[1]*YY + intercept)/-coef[2]\n",
    "ax.plot_surface(XX,YY,ZZ,rstride=8,cstride=8,alpha=0.3)\n",
    "ax.scatter(X_new[mask,0],X_new[mask,1],X_new[mask,2],c='b',cmap=mglearn.cm2,s=60)\n",
    "ax.scatter(X_new[~mask,0],X_new[~mask,1],X_new[~mask,2],c='r',marker='^',cmap=mglearn.cm2,s=60)\n",
    "ax.set_xlabel(\"feature0\")\n",
    "ax.set_ylabel(\"feature1\")\n",
    "ax.set_zlabel(\"feature1**2\")"
   ]
  },
  {
   "cell_type": "code",
   "execution_count": 0,
   "metadata": {},
   "outputs": [],
   "source": [
    "ZZ=YY**2\n",
    "dec = linear_svm_3d.decision_function(np.c_[XX.ravel(),YY.ravel(),ZZ.ravel()])\n",
    "plt.contourf(XX,YY,dec.reshape(XX.shape),levels=[dec.min(),0,dec.max()],cmap=mglearn.cm2,alpha=0.5)\n",
    "mglearn.discrete_scatter(X[:,0],X[:,1],y)\n",
    "plt.xlabel(\"Feature 0\")\n",
    "plt.ylabel(\"Feature 1\")"
   ]
  },
  {
   "cell_type": "code",
   "execution_count": 0,
   "metadata": {},
   "outputs": [],
   "source": [
    "from sklearn.svm import SVC\n",
    "X,y = mglearn.tools.make_handcrafted_dataset()\n",
    "svm = SVC(kernel='rbf',C=10,gamma=0.1).fit(X,y)\n",
    "mglearn.plots.plot_2d_separator(svm,X,eps=.5)\n",
    "mglearn.discrete_scatter(X[:,0],X[:,1],y)\n",
    "#サポートベクタをプロットする\n",
    "sv = svm.support_vectors_\n",
    "#サポートベクタのクラスラベルはdual＿coef＿の正負によって与えられる\n",
    "sv_labels = svm.dual_coef_.ravel() >0\n",
    "mglearn.discrete_scatter(sv[0:,0],sv[:,1],sv_labels,s=15,markeredgewidth=3)\n",
    "plt.xlabel(\"Feature 0\")\n",
    "plt.ylabel(\"Feature 1\")"
   ]
  },
  {
   "cell_type": "code",
   "execution_count": 0,
   "metadata": {},
   "outputs": [],
   "source": [
    "fig,axes = plt.subplots(3,3,figsize=(15,10))\n",
    "\n",
    "for ax,C in zip(axes,[-1,0,3]):\n",
    "    for a,gamma in zip(ax,range(-1,2)):\n",
    "        mglearn.plots.plot_svm(log_C=C,log_gamma=gamma,ax=a)\n",
    "\n",
    "axes[0,0].legend([\"class 0\",\"class 1\",\"sv class 0\",\"sv class 1\"],ncol=4,loc=(.9,1.2))"
   ]
  },
  {
   "cell_type": "code",
   "execution_count": 0,
   "metadata": {},
   "outputs": [],
   "source": [
    "X_train,X_test,y_train,y_test = train_test_split(cancer.data,cancer.target,random_state=0)\n",
    "\n",
    "svc=SVC()\n",
    "svc.fit(X_train,y_train)\n",
    "\n",
    "print(svc.score(X_train,y_train))\n",
    "print(svc.score(X_test,y_test))"
   ]
  },
  {
   "cell_type": "code",
   "execution_count": 0,
   "metadata": {},
   "outputs": [],
   "source": [
    "plt.plot(X_train.min(axis=0),'o',label=\"min\")\n",
    "plt.plot(X_train.min(axis=0),'^',label=\"max\")\n",
    "plt.legend(loc = 4)\n",
    "plt.xlabel(\"Feature index\")\n",
    "plt.ylabel(\"Feature magnitude\")\n",
    "plt.yscale(\"log\")"
   ]
  },
  {
   "cell_type": "code",
   "execution_count": 0,
   "metadata": {},
   "outputs": [],
   "source": [
    "min_on_training = X_train.min(axis=0)\n",
    "range_on_training = (X_train - min_on_training).max(axis=0)\n",
    "#最小値を引いてレンジで割る\n",
    "#個々の特徴量はmin = 0,max = 1となる\n",
    "X_train_scaled = (X_train - min_on_training)/range_on_training\n",
    "print(X_train_scaled.min(axis=0))\n",
    "print(X_train_scaled.max(axis=0))"
   ]
  },
  {
   "cell_type": "code",
   "execution_count": 0,
   "metadata": {},
   "outputs": [],
   "source": [
    "#テストセットに対しても同じ変換をする\n",
    "X_test_scaled = (X_test - min_on_training)/range_on_training"
   ]
  },
  {
   "cell_type": "code",
   "execution_count": 0,
   "metadata": {},
   "outputs": [],
   "source": [
    "svc= SVC()\n",
    "svc.fit(X_train_scaled,y_train)\n",
    "print(svc.score(X_train_scaled,y_train))\n",
    "print(svc.score(X_test_scaled,y_test))"
   ]
  },
  {
   "cell_type": "code",
   "execution_count": 0,
   "metadata": {},
   "outputs": [],
   "source": [
    "svc= SVC(C=1000)\n",
    "svc.fit(X_train_scaled,y_train)\n",
    "print(svc.score(X_train_scaled,y_train))\n",
    "print(svc.score(X_test_scaled,y_test))"
   ]
  },
  {
   "cell_type": "code",
   "execution_count": 0,
   "metadata": {},
   "outputs": [],
   "source": [
    "line = np.linspace(-3,3,100)\n",
    "plt.plot(line,np.tanh(line),label=\"tanh\")\n",
    "plt.plot(line,np.maximum(line,0),label=\"relu\")\n",
    "plt.legend(loc=\"best\")\n",
    "plt.xlabel(\"x\")\n",
    "plt.ylabel(\"relu(x),tanh(x)\")"
   ]
  },
  {
   "cell_type": "code",
   "execution_count": 0,
   "metadata": {},
   "outputs": [],
   "source": [
    "mglearn.plots.plot_two_hidden_layer_graph()"
   ]
  },
  {
   "cell_type": "code",
   "execution_count": 0,
   "metadata": {},
   "outputs": [],
   "source": [
    "from sklearn.neural_network import MLPClassifier\n",
    "from sklearn.datasets import make_moons\n",
    "X,y = make_moons(n_samples=100,noise=0.25,random_state=3)\n",
    "X_train,X_test,y_train,y_test = train_test_split(X,y,stratify=y,random_state=42)\n",
    "mlp = MLPClassifier(solver='lbfgs',random_state=0).fit(X_train,y_train)\n",
    "mglearn.plots.plot_2d_separator(mlp,X_train,fill=True,alpha=.3)\n",
    "mglearn.discrete_scatter(X_train[:,0],X_train[:,1],y_train)\n",
    "plt.xlabel(\"Feature 0\")\n",
    "plt.ylabel(\"Feature 1\")"
   ]
  },
  {
   "cell_type": "code",
   "execution_count": 0,
   "metadata": {},
   "outputs": [],
   "source": [
    "mlp = MLPClassifier(solver='lbfgs',random_state=0,hidden_layer_sizes=[10])\n",
    "mlp.fit(X_train,y_train)\n",
    "mglearn.plots.plot_2d_separator(mlp,X_train,fill=True,alpha=.3)\n",
    "mglearn.discrete_scatter(X_train[:,0],X_train[:,1],y_train)\n",
    "plt.xlabel(\"Feature 0\")\n",
    "plt.ylabel(\"Feature 1\")"
   ]
  },
  {
   "cell_type": "code",
   "execution_count": 0,
   "metadata": {},
   "outputs": [],
   "source": [
    "#それぞれ10ユニットの隠れ層を2層使う\n",
    "mlp = MLPClassifier(solver='lbfgs',random_state=0,hidden_layer_sizes=[10,10])\n",
    "mlp.fit(X_train,y_train)\n",
    "mglearn.plots.plot_2d_separator(mlp,X_train,fill=True,alpha=.3)\n",
    "mglearn.discrete_scatter(X_train[:,0],X_train[:,1],y_train)\n",
    "plt.xlabel(\"Feature 0\")\n",
    "plt.ylabel(\"Feature 1\")"
   ]
  },
  {
   "cell_type": "code",
   "execution_count": 0,
   "metadata": {},
   "outputs": [],
   "source": [
    "#更に非活性化関数にtanhを追加を使う\n",
    "mlp = MLPClassifier(solver='lbfgs',activation='tanh',random_state=0,hidden_layer_sizes=[10])\n",
    "mlp.fit(X_train,y_train)\n",
    "mglearn.plots.plot_2d_separator(mlp,X_train,fill=True,alpha=.3)\n",
    "mglearn.discrete_scatter(X_train[:,0],X_train[:,1],y_train)\n",
    "plt.xlabel(\"Feature 0\")\n",
    "plt.ylabel(\"Feature 1\")"
   ]
  },
  {
   "cell_type": "code",
   "execution_count": 0,
   "metadata": {},
   "outputs": [],
   "source": [
    "fig,axes = plt.subplots(2,4,figsize=(20,8))\n",
    "for axx,n_hidden_nodes in zip(axes,[10,100]):\n",
    "    for ax,alpha in zip(axx,[0.0001,0.01,0.1,1]):\n",
    "        mlp = MLPClassifier(solver=\"lbfgs\",random_state=0,hidden_layer_sizes=[n_hidden_nodes,n_hidden_nodes],alpha=alpha)\n",
    "        mlp.fit(X_train,y_train)\n",
    "        mglearn.plots.plot_2d_separator(mlp,X_train,fill=True,alpha=.3,ax=ax)\n",
    "        mglearn.discrete_scatter(X_train[:,0],X_train[:,1],y_train,ax=ax)\n",
    "        ax.set_title(\"n_hidden=[{},{}]\\naplha={:.4f}\".format(n_hidden_nodes,n_hidden_nodes,alpha))"
   ]
  },
  {
   "cell_type": "code",
   "execution_count": 0,
   "metadata": {},
   "outputs": [],
   "source": [
    "fig,axes = plt.subplots(2,4,figsize=(20,8))\n",
    "for i,ax in enumerate(axes.ravel()):\n",
    "    mlp=MLPClassifier(solver='lbfgs',random_state=i,hidden_layer_sizes=[100,100])\n",
    "    mlp.fit(X_train,y_train)\n",
    "    mglearn.plots.plot_2d_separator(mlp,X_train,fill=True,alpha=.3,ax=ax)\n",
    "    mglearn.discrete_scatter(X_train[:,0],X_train[:,1],y_train,ax=ax)"
   ]
  },
  {
   "cell_type": "code",
   "execution_count": 0,
   "metadata": {},
   "outputs": [],
   "source": [
    "print(cancer.data.max(axis=0))"
   ]
  },
  {
   "cell_type": "code",
   "execution_count": 0,
   "metadata": {},
   "outputs": [],
   "source": [
    "X_train,X_test,y_train,y_test=train_test_split(cancer.data,cancer.target,random_state=0)\n",
    "mlp=MLPClassifier(random_state=42)\n",
    "mlp.fit(X_train,y_train)\n",
    "print(mlp.score(X_train,y_train))\n",
    "print(mlp.score(X_test,y_test))"
   ]
  },
  {
   "cell_type": "code",
   "execution_count": 0,
   "metadata": {},
   "outputs": [],
   "source": [
    "#訓練セットの特徴量ごとの平均値を算出\n",
    "mean_on_train=X_train.mean(axis=0)\n",
    "#訓練セットの特徴量ごとの標準偏差を算出\n",
    "std_on_train=X_train.std(axis=0)\n",
    "\n",
    "#平均を引き、標準偏差の逆算でスケール変換する\n",
    "#これでmean=0,std=1になる\n",
    "X_train_scaled=(X_train-mean_on_train)/std_on_train\n",
    "#同様の変換をテストデータに\n",
    "X_test_scaled=(X_test-mean_on_train)/std_on_train\n",
    "\n",
    "mlp=MLPClassifier(random_state=0)\n",
    "mlp.fit(X_train_scaled,y_train)\n",
    "print(mlp.score(X_train_scaled,y_train))\n",
    "print(mlp.score(X_test_scaled,y_test))"
   ]
  },
  {
   "cell_type": "code",
   "execution_count": 0,
   "metadata": {},
   "outputs": [],
   "source": [
    "mlp=MLPClassifier(max_iter=1000,random_state=0)\n",
    "mlp.fit(X_train_scaled,y_train)\n",
    "print(mlp.score(X_train_scaled,y_train))\n",
    "print(mlp.score(X_test_scaled,y_test))"
   ]
  },
  {
   "cell_type": "code",
   "execution_count": 0,
   "metadata": {},
   "outputs": [],
   "source": [
    "mlp=MLPClassifier(max_iter=1000,alpha=1,random_state=0)\n",
    "mlp.fit(X_train_scaled,y_train)\n",
    "print(mlp.score(X_train_scaled,y_train))\n",
    "print(mlp.score(X_test_scaled,y_test))"
   ]
  },
  {
   "cell_type": "code",
   "execution_count": 0,
   "metadata": {},
   "outputs": [],
   "source": [
    "plt.figure(figsize=(20,5))\n",
    "plt.imshow(mlp.coefs_[0],interpolation='none',cmap='viridis')\n",
    "plt.yticks(range(30),cancer.feature_names)\n",
    "plt.xlabel(\"Columns in weight matrix\")\n",
    "plt.ylabel(\"Input feature\")\n",
    "plt.colorbar()"
   ]
  },
  {
   "cell_type": "code",
   "execution_count": 0,
   "metadata": {},
   "outputs": [],
   "source": [
    "from sklearn.ensemble import GradientBoostingClassifier\n",
    "from sklearn.datasets import make_circles\n",
    "X,y = make_circles(noise=0.25,factor=0.5,random_state=1)\n",
    "#わかりませんようにクラスを\"blue\"と\"red\"にする\n",
    "y_named=np.array([\"blue\",\"red\"])[y]\n",
    "\n",
    "#train_test_splitは任意の数の配列に適用\n",
    "#全ての配列は整合するように分割される\n",
    "X_train,X_test,y_train_named,y_test_named,y_train,y_test=train_test_split(X,y_named,y,random_state=0)\n",
    "#勾配ブースティングモデルを構築\n",
    "gbrt=GradientBoostingClassifier(random_state=0)\n",
    "gbrt.fit(X_train,y_train_named)"
   ]
  },
  {
   "cell_type": "code",
   "execution_count": 0,
   "metadata": {},
   "outputs": [],
   "source": [
    "print(X_test.shape)\n",
    "print(gbrt.decision_function(X_test).shape)"
   ]
  },
  {
   "cell_type": "code",
   "execution_count": 0,
   "metadata": {},
   "outputs": [],
   "source": [
    "#decisionの最初のいくつかを表示\n",
    "print(gbrt.decision_function(X_test)[:6])"
   ]
  },
  {
   "cell_type": "code",
   "execution_count": 0,
   "metadata": {},
   "outputs": [],
   "source": [
    "print(gbrt.decision_function(X_test)>0)"
   ]
  },
  {
   "cell_type": "code",
   "execution_count": 0,
   "metadata": {},
   "outputs": [],
   "source": [
    "print(gbrt.predict(X_test))"
   ]
  },
  {
   "cell_type": "code",
   "execution_count": null,
   "metadata": {},
   "outputs": [],
   "source": [
    "decision_function = gbrt.decision_function(X_test)\n",
    "print()"
   ]
  },
  {
   "cell_type": "code",
   "execution_count": null,
   "metadata": {},
   "outputs": [],
   "source": []
  },
  {
   "cell_type": "code",
   "execution_count": 1,
   "metadata": {},
   "outputs": [
    {
     "ename": "NameError",
     "evalue": "name 'gbrt' is not defined",
     "output_type": "error",
     "traceback": [
      "\u001b[0;31m---------------------------------------------------------------------------\u001b[0m",
      "\u001b[0;31mNameError\u001b[0m                                 Traceback (most recent call last)",
      "\u001b[0;32m<ipython-input-1-de320ef453e6>\u001b[0m in \u001b[0;36m<module>\u001b[0;34m\u001b[0m\n\u001b[0;32m----> 1\u001b[0;31m \u001b[0mdecision_function\u001b[0m \u001b[0;34m=\u001b[0m \u001b[0mgbrt\u001b[0m\u001b[0;34m.\u001b[0m\u001b[0mdecision_function\u001b[0m\u001b[0;34m(\u001b[0m\u001b[0mX_test\u001b[0m\u001b[0;34m)\u001b[0m\u001b[0;34m\u001b[0m\u001b[0;34m\u001b[0m\u001b[0m\n\u001b[0m\u001b[1;32m      2\u001b[0m \u001b[0mprint\u001b[0m\u001b[0;34m(\u001b[0m\u001b[0mnp\u001b[0m\u001b[0;34m.\u001b[0m\u001b[0mmin\u001b[0m\u001b[0;34m(\u001b[0m\u001b[0mdecision_function\u001b[0m\u001b[0;34m)\u001b[0m\u001b[0;34m,\u001b[0m\u001b[0mnp\u001b[0m\u001b[0;34m.\u001b[0m\u001b[0mmax\u001b[0m\u001b[0;34m(\u001b[0m\u001b[0mdecision_function\u001b[0m\u001b[0;34m)\u001b[0m\u001b[0;34m)\u001b[0m\u001b[0;34m\u001b[0m\u001b[0;34m\u001b[0m\u001b[0m\n",
      "\u001b[0;31mNameError\u001b[0m: name 'gbrt' is not defined"
     ]
    }
   ],
   "source": [
    "decision_function = gbrt.decision_function(X_test)\n",
    "print(np.min(decision_function),np.max(decision_function))"
   ]
  },
  {
   "cell_type": "code",
   "execution_count": null,
   "metadata": {},
   "outputs": [],
   "source": [
    "fig,axes = plt.subplots(1,2,(figsize=(13,5)))\n",
    "mglearn.tools.plot_2d_separator(gbrt,X,ax=axes[0],alpha=.4,cm=mglearn.cm2)\n",
    "scores_image = mglearn.tools.plot_2d_separator(gbrt,X,ax=axes[0],alpha=.4,cm=mglearn.cm2)mglearn.tools.plot_2d_separator(gbrt,X,ax=axes[1],alpha=.4,cm=mglearn.ReBl)\n",
    "\n",
    "for ax in axes:\n",
    "    #訓練データポイントとテストデータポイントをプロット\n",
    "    mglearn.discrete_scatter(X_test[:,0],X_test[:,1],y_test,markers)"
   ]
  },
  {
   "cell_type": "code",
   "execution_count": null,
   "metadata": {},
   "outputs": [],
   "source": []
  },
  {
   "cell_type": "code",
   "execution_count": 68,
   "metadata": {},
   "outputs": [
    {
     "ename": "NameError",
     "evalue": "name 'gbrt' is not defined",
     "output_type": "error",
     "traceback": [
      "\u001b[0;31m---------------------------------------------------------------------------\u001b[0m",
      "\u001b[0;31mNameError\u001b[0m                                 Traceback (most recent call last)",
      "\u001b[0;32m<ipython-input-68-442e0de3986f>\u001b[0m in \u001b[0;36m<module>\u001b[0;34m\u001b[0m\n\u001b[1;32m      1\u001b[0m \u001b[0;31m#True/Falseを0/1に\u001b[0m\u001b[0;34m\u001b[0m\u001b[0;34m\u001b[0m\u001b[0;34m\u001b[0m\u001b[0m\n\u001b[0;32m----> 2\u001b[0;31m \u001b[0mgreater_zero\u001b[0m\u001b[0;34m=\u001b[0m\u001b[0;34m(\u001b[0m\u001b[0mgbrt\u001b[0m\u001b[0;34m.\u001b[0m\u001b[0mdecision_function\u001b[0m\u001b[0;34m(\u001b[0m\u001b[0mX_test\u001b[0m\u001b[0;34m)\u001b[0m\u001b[0;34m>\u001b[0m\u001b[0;36m0\u001b[0m\u001b[0;34m)\u001b[0m\u001b[0;34m.\u001b[0m\u001b[0mastype\u001b[0m\u001b[0;34m(\u001b[0m\u001b[0mint\u001b[0m\u001b[0;34m)\u001b[0m\u001b[0;34m\u001b[0m\u001b[0;34m\u001b[0m\u001b[0m\n\u001b[0m\u001b[1;32m      3\u001b[0m \u001b[0;31m#0/1をclasses_のインデックスに使う\u001b[0m\u001b[0;34m\u001b[0m\u001b[0;34m\u001b[0m\u001b[0;34m\u001b[0m\u001b[0m\n\u001b[1;32m      4\u001b[0m \u001b[0mpred\u001b[0m\u001b[0;34m=\u001b[0m\u001b[0mgbrt\u001b[0m\u001b[0;34m.\u001b[0m\u001b[0mclasses_\u001b[0m\u001b[0;34m[\u001b[0m\u001b[0mgreaterzero\u001b[0m\u001b[0;34m]\u001b[0m\u001b[0;34m\u001b[0m\u001b[0;34m\u001b[0m\u001b[0m\n\u001b[1;32m      5\u001b[0m \u001b[0;31m#predはgbrt.predictの出力と同じになる\u001b[0m\u001b[0;34m\u001b[0m\u001b[0;34m\u001b[0m\u001b[0;34m\u001b[0m\u001b[0m\n",
      "\u001b[0;31mNameError\u001b[0m: name 'gbrt' is not defined"
     ]
    }
   ],
   "source": [
    "#True/Falseを0/1に\n",
    "greater_zero=(gbrt.decision_function(X_test)>0).astype(int)\n",
    "#0/1をclasses_のインデックスに使う\n",
    "pred=gbrt.classes_[greaterzero]\n",
    "#predはgbrt.predictの出力と同じになる\n",
    "print(np.all(pred == gbrt.predict(X_test)))"
   ]
  }
 ],
 "metadata": {
  "file_extension": ".py",
  "kernelspec": {
   "display_name": "Python 3",
   "language": "python",
   "name": "python3"
  },
  "language_info": {
   "codemirror_mode": {
    "name": "ipython",
    "version": 3
   },
   "file_extension": ".py",
   "mimetype": "text/x-python",
   "name": "python",
   "nbconvert_exporter": "python",
   "pygments_lexer": "ipython3",
   "version": "3.7.3"
  },
  "mimetype": "text/x-python",
  "name": "python",
  "npconvert_exporter": "python",
  "pygments_lexer": "ipython3",
  "version": 3
 },
 "nbformat": 4,
 "nbformat_minor": 2
}