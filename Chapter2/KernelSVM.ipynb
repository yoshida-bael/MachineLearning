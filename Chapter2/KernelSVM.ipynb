{
 "nbformat": 4,
 "nbformat_minor": 2,
 "metadata": {
  "language_info": {
   "name": "python",
   "codemirror_mode": {
    "name": "ipython",
    "version": 3
   }
  },
  "orig_nbformat": 2,
  "file_extension": ".py",
  "mimetype": "text/x-python",
  "name": "python",
  "npconvert_exporter": "python",
  "pygments_lexer": "ipython3",
  "version": 3
 },
 "cells": [
  {
   "cell_type": "code",
   "execution_count": null,
   "metadata": {},
   "outputs": [],
   "source": [
    "from sklearn.datasets import load_iris\n",
    "import numpy as np\n",
    "import matplotlib.pyplot as plt\n",
    "import pandas as pd\n",
    "import mglearn\n",
    "import scipy as sp\n",
    "import sklearn\n",
    "from sklearn.model_selection import train_test_split\n",
    "%matplotlib inline"
   ]
  },
  {
   "cell_type": "code",
   "execution_count": null,
   "metadata": {},
   "outputs": [],
   "source": [
    "X,y = make_blobs(centers=4,random_state=8)\n",
    "y = y%2\n",
    "mglearn.discrete_scatter(X[:,0],X[:,1],y)\n",
    "plt.xlabel(\"Feature 0\")\n",
    "plt.ylabel(\"Feature 1\")"
   ]
  },
  {
   "cell_type": "code",
   "execution_count": null,
   "metadata": {},
   "outputs": [],
   "source": [
    "from sklearn.svm import LinearSVC\n",
    "linear_svm = LinearSVC().fit(X,y)\n",
    "mglearn.plots.plot_2d_separator(linear_svm,X)\n",
    "mglearn.discrete_scatter(X[:,0],X[:,1],y)\n",
    "plt.xlabel(\"Feature 0\")\n",
    "plt.ylabel(\"Feature 1\")"
   ]
  },
  {
   "cell_type": "code",
   "execution_count": null,
   "metadata": {},
   "outputs": [],
   "source": [
    "X_new = np.hstack([X,X[:,1:]**2])\n",
    "from mpl_toolkits.mplot3d import Axes3D,axes3d\n",
    "figure = plt.figure()\n",
    "#3Dで可視化\n",
    "ax = Axes3D(figure,elev=-152,azim=-26)\n",
    "#y==0の点をプロットしてからy==1の点をプロット\n",
    "mask = y == 0\n",
    "ax.scatter(X_new[mask,0],X_new[mask,1],X_new[mask,2],c='b',cmap=mglearn.cm2,s=60)\n",
    "ax.scatter(X_new[~mask,0],X_new[~mask,1],X_new[~mask,2],c='r',marker='^',cmap=mglearn.cm2,s=60)\n",
    "ax.set_xlabel(\"feature0\")\n",
    "ax.set_ylabel(\"feature1\")\n",
    "ax.set_zlabel(\"feature1**2\")"
   ]
  },
  {
   "cell_type": "code",
   "execution_count": null,
   "metadata": {},
   "outputs": [],
   "source": [
    "linear_svm_3d = LinearSVC().fit(X_new,y)\n",
    "coef,intercept = linear_svm_3d.coef_.ravel(),linear_svm_3d.intercept_\n",
    "\n",
    "#線形決定境界を描画\n",
    "figure = plt.figure()\n",
    "ax = Axes3D(figure,elev=-152,azim=-26)\n",
    "xx = np.linspace(X_new[:,0].min(),X_new[:,0].max()+2,50)\n",
    "yy = np.linspace(X_new[:,1].min()-2,X_new[:,1].max()+2,50)\n",
    "XX,YY = np.meshgrid(xx,yy)\n",
    "ZZ = (coef[0]*XX + coef[1]*YY + intercept)/-coef[2]\n",
    "ax.plot_surface(XX,YY,ZZ,rstride=8,cstride=8,alpha=0.3)\n",
    "ax.scatter(X_new[mask,0],X_new[mask,1],X_new[mask,2],c='b',cmap=mglearn.cm2,s=60)\n",
    "ax.scatter(X_new[~mask,0],X_new[~mask,1],X_new[~mask,2],c='r',marker='^',cmap=mglearn.cm2,s=60)\n",
    "ax.set_xlabel(\"feature0\")\n",
    "ax.set_ylabel(\"feature1\")\n",
    "ax.set_zlabel(\"feature1**2\")"
   ]
  },
  {
   "cell_type": "code",
   "execution_count": null,
   "metadata": {},
   "outputs": [],
   "source": [
    "ZZ=YY**2\n",
    "dec = linear_svm_3d.decision_function(np.c_[XX.ravel(),YY.ravel(),ZZ.ravel()])\n",
    "plt.contourf(XX,YY,dec.reshape(XX.shape),levels=[dec.min(),0,dec.max()],cmap=mglearn.cm2,alpha=0.5)\n",
    "mglearn.discrete_scatter(X[:,0],X[:,1],y)\n",
    "plt.xlabel(\"Feature 0\")\n",
    "plt.ylabel(\"Feature 1\")"
   ]
  },
  {
   "cell_type": "code",
   "execution_count": null,
   "metadata": {},
   "outputs": [],
   "source": [
    "from sklearn.svm import SVC\n",
    "X,y = mglearn.tools.make_handcrafted_dataset()\n",
    "svm = SVC(kernel='rbf',C=10,gamma=0.1).fit(X,y)\n",
    "mglearn.plots.plot_2d_separator(svm,X,eps=.5)\n",
    "mglearn.discrete_scatter(X[:,0],X[:,1],y)\n",
    "#サポートベクタをプロットする\n",
    "sv = svm.support_vectors_\n",
    "#サポートベクタのクラスラベルはdual＿coef＿の正負によって与えられる\n",
    "sv_labels = svm.dual_coef_.ravel() >0\n",
    "mglearn.discrete_scatter(sv[0:,0],sv[:,1],sv_labels,s=15,markeredgewidth=3)\n",
    "plt.xlabel(\"Feature 0\")\n",
    "plt.ylabel(\"Feature 1\")"
   ]
  },
  {
   "cell_type": "code",
   "execution_count": null,
   "metadata": {},
   "outputs": [],
   "source": [
    "fig,axes = plt.subplots(3,3,figsize=(15,10))\n",
    "\n",
    "for ax,C in zip(axes,[-1,0,3]):\n",
    "    for a,gamma in zip(ax,range(-1,2)):\n",
    "        mglearn.plots.plot_svm(log_C=C,log_gamma=gamma,ax=a)\n",
    "\n",
    "axes[0,0].legend([\"class 0\",\"class 1\",\"sv class 0\",\"sv class 1\"],ncol=4,loc=(.9,1.2))"
   ]
  },
  {
   "cell_type": "code",
   "execution_count": null,
   "metadata": {},
   "outputs": [],
   "source": [
    "X_train,X_test,y_train,y_test = train_test_split(cancer.data,cancer.target,random_state=0)\n",
    "\n",
    "svc=SVC()\n",
    "svc.fit(X_train,y_train)\n",
    "\n",
    "print(svc.score(X_train,y_train))\n",
    "print(svc.score(X_test,y_test))"
   ]
  },
  {
   "cell_type": "code",
   "execution_count": null,
   "metadata": {},
   "outputs": [],
   "source": [
    "plt.plot(X_train.min(axis=0),'o',label=\"min\")\n",
    "plt.plot(X_train.min(axis=0),'^',label=\"max\")\n",
    "plt.legend(loc = 4)\n",
    "plt.xlabel(\"Feature index\")\n",
    "plt.ylabel(\"Feature magnitude\")\n",
    "plt.yscale(\"log\")"
   ]
  },
  {
   "cell_type": "code",
   "execution_count": null,
   "metadata": {},
   "outputs": [],
   "source": [
    "#訓練セットの特徴量ごとに最小値を計算\n",
    "min_on_training = X_train.min(axis=0)\n",
    "#訓練セットの特徴量ごとにレンジを計算\n",
    "range_on_training = (X_train - min_on_training).max(axis=0)\n",
    "#最小値を引いてレンジで割る\n",
    "#個々の特徴量はmin = 0,max = 1となる\n",
    "X_train_scaled = (X_train - min_on_training)/range_on_training\n",
    "print(X_train_scaled.min(axis=0))\n",
    "print(X_train_scaled.max(axis=0))"
   ]
  },
  {
   "cell_type": "code",
   "execution_count": null,
   "metadata": {},
   "outputs": [],
   "source": [
    "#テストセットに対しても同じ変換をする\n",
    "X_test_scaled = (X_test - min_on_training)/range_on_training"
   ]
  },
  {
   "cell_type": "code",
   "execution_count": null,
   "metadata": {},
   "outputs": [],
   "source": [
    "svc= SVC()\n",
    "svc.fit(X_train_scaled,y_train)\n",
    "print(svc.score(X_train_scaled,y_train))\n",
    "print(svc.score(X_test_scaled,y_test))"
   ]
  },
  {
   "cell_type": "code",
   "execution_count": null,
   "metadata": {},
   "outputs": [],
   "source": [
    "svc= SVC(C=1000)\n",
    "svc.fit(X_train_scaled,y_train)\n",
    "print(svc.score(X_train_scaled,y_train))\n",
    "print(svc.score(X_test_scaled,y_test))"
   ]
  }
 ]
}