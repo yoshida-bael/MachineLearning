{
 "nbformat": 4,
 "nbformat_minor": 2,
 "metadata": {
  "language_info": {
   "name": "python",
   "codemirror_mode": {
    "name": "ipython",
    "version": 3
   }
  },
  "orig_nbformat": 2,
  "file_extension": ".py",
  "mimetype": "text/x-python",
  "name": "python",
  "npconvert_exporter": "python",
  "pygments_lexer": "ipython3",
  "version": 3
 },
 "cells": [
  {
   "cell_type": "code",
   "execution_count": null,
   "metadata": {},
   "outputs": [],
   "source": [
    "from sklearn.datasets import load_iris\n",
    "import numpy as np\n",
    "import matplotlib.pyplot as plt\n",
    "import pandas as pd\n",
    "import mglearn\n",
    "import scipy as sp\n",
    "import sklearn\n",
    "from sklearn.model_selection import train_test_split\n",
    "%matplotlib inline"
   ]
  },
  {
   "cell_type": "code",
   "execution_count": null,
   "metadata": {},
   "outputs": [],
   "source": [
    "display(mglearn.plots.plot_logistic_regression_graph())"
   ]
  },
  {
   "cell_type": "code",
   "execution_count": null,
   "metadata": {},
   "outputs": [],
   "source": [
    "display(mglearn.plots.plot_single_hidden_layer_graph())"
   ]
  },
  {
   "cell_type": "code",
   "execution_count": null,
   "metadata": {},
   "outputs": [],
   "source": [
    "line = np.linspace(-3,3,100)\n",
    "plt.plot(line,np.tanh(line),label=\"tanh\")\n",
    "plt.plot(line,np.maximum(line,0),label=\"relu\")\n",
    "plt.legend(loc=\"best\")\n",
    "plt.xlabel(\"x\")\n",
    "plt.ylabel(\"relu(x),tanh(x)\")line = np.linspace(-3,3,100)\n",
    "plt.plot(line,np.tanh(line),label=\"tanh\")\n",
    "plt.plot(line,np.maximum(line,0),label=\"relu\")\n",
    "plt.legend(loc=\"best\")\n",
    "plt.xlabel(\"x\")\n",
    "plt.ylabel(\"relu(x),tanh(x)\")"
   ]
  },
  {
   "cell_type": "code",
   "execution_count": null,
   "metadata": {},
   "outputs": [],
   "source": [
    "mglearn.plots.plot_two_hidden_layer_graph()"
   ]
  },
  {
   "cell_type": "code",
   "execution_count": null,
   "metadata": {},
   "outputs": [],
   "source": [
    "from sklearn.neural_network import MLPClassifier\n",
    "from sklearn.datasets import make_moons\n",
    "X,y = make_moons(n_samples=100,noise=0.25,random_state=3)\n",
    "X_train,X_test,y_train,y_test = train_test_split(X,y,stratify=y,random_state=42)\n",
    "mlp = MLPClassifier(solver='lbfgs',random_state=0).fit(X_train,y_train)\n",
    "mglearn.plots.plot_2d_separator(mlp,X_train,fill=True,alpha=.3)\n",
    "mglearn.discrete_scatter(X_train[:,0],X_train[:,1],y_train)\n",
    "plt.xlabel(\"Feature 0\")\n",
    "plt.ylabel(\"Feature 1\")"
   ]
  },
  {
   "cell_type": "code",
   "execution_count": null,
   "metadata": {},
   "outputs": [],
   "source": [
    "mlp = MLPClassifier(solver='lbfgs',random_state=0,hidden_layer_sizes=[10])\n",
    "mlp.fit(X_train,y_train)\n",
    "mglearn.plots.plot_2d_separator(mlp,X_train,fill=True,alpha=.3)\n",
    "mglearn.discrete_scatter(X_train[:,0],X_train[:,1],y_train)\n",
    "plt.xlabel(\"Feature 0\")\n",
    "plt.ylabel(\"Feature 1\")"
   ]
  },
  {
   "cell_type": "code",
   "execution_count": null,
   "metadata": {},
   "outputs": [],
   "source": [
    "#それぞれ10ユニットの隠れ層を2層使う\n",
    "mlp = MLPClassifier(solver='lbfgs',random_state=0,hidden_layer_sizes=[10,10])\n",
    "mlp.fit(X_train,y_train)\n",
    "mglearn.plots.plot_2d_separator(mlp,X_train,fill=True,alpha=.3)\n",
    "mglearn.discrete_scatter(X_train[:,0],X_train[:,1],y_train)\n",
    "plt.xlabel(\"Feature 0\")\n",
    "plt.ylabel(\"Feature 1\")"
   ]
  },
  {
   "cell_type": "code",
   "execution_count": null,
   "metadata": {},
   "outputs": [],
   "source": [
    "#更に非活性化関数にtanhを追加を使う\n",
    "mlp = MLPClassifier(solver='lbfgs',activation='tanh',random_state=0,hidden_layer_sizes=[10])\n",
    "mlp.fit(X_train,y_train)\n",
    "mglearn.plots.plot_2d_separator(mlp,X_train,fill=True,alpha=.3)\n",
    "mglearn.discrete_scatter(X_train[:,0],X_train[:,1],y_train)\n",
    "plt.xlabel(\"Feature 0\")\n",
    "plt.ylabel(\"Feature 1\")"
   ]
  },
  {
   "cell_type": "code",
   "execution_count": null,
   "metadata": {},
   "outputs": [],
   "source": [
    "fig,axes = plt.subplots(2,4,figsize=(20,8))\n",
    "for axx,n_hidden_nodes in zip(axes,[10,100]):\n",
    "    for ax,alpha in zip(axx,[0.0001,0.01,0.1,1]):\n",
    "        mlp = MLPClassifier(solver=\"lbfgs\",random_state=0,hidden_layer_sizes=[n_hidden_nodes,n_hidden_nodes],alpha=alpha)\n",
    "        mlp.fit(X_train,y_train)\n",
    "        mglearn.plots.plot_2d_separator(mlp,X_train,fill=True,alpha=.3,ax=ax)\n",
    "        mglearn.discrete_scatter(X_train[:,0],X_train[:,1],y_train,ax=ax)\n",
    "        ax.set_title(\"n_hidden=[{},{}]\\naplha={:.4f}\".format(n_hidden_nodes,n_hidden_nodes,alpha))"
   ]
  },
  {
   "cell_type": "code",
   "execution_count": null,
   "metadata": {},
   "outputs": [],
   "source": [
    "fig,axes = plt.subplots(2,4,figsize=(20,8))\n",
    "for i,ax in enumerate(axes.ravel()):\n",
    "    mlp=MLPClassifier(solver='lbfgs',random_state=i,hidden_layer_sizes=[100,100])\n",
    "    mlp.fit(X_train,y_train)\n",
    "    mglearn.plots.plot_2d_separator(mlp,X_train,fill=True,alpha=.3,ax=ax)\n",
    "    mglearn.discrete_scatter(X_train[:,0],X_train[:,1],y_train,ax=ax)"
   ]
  },
  {
   "cell_type": "code",
   "execution_count": null,
   "metadata": {},
   "outputs": [],
   "source": [
    "print(cancer.data.max(axis=0))"
   ]
  },
  {
   "cell_type": "code",
   "execution_count": null,
   "metadata": {},
   "outputs": [],
   "source": [
    "X_train,X_test,y_train,y_test=train_test_split(cancer.data,cancer.target,random_state=0)\n",
    "mlp=MLPClassifier(random_state=42)\n",
    "mlp.fit(X_train,y_train)\n",
    "print(mlp.score(X_train,y_train))\n",
    "print(mlp.score(X_test,y_test))"
   ]
  },
  {
   "cell_type": "code",
   "execution_count": null,
   "metadata": {},
   "outputs": [],
   "source": [
    "#訓練セットの特徴量ごとの平均値を算出\n",
    "mean_on_train=X_train.mean(axis=0)\n",
    "#訓練セットの特徴量ごとの標準偏差を算出\n",
    "std_on_train=X_train.std(axis=0)\n",
    "\n",
    "#平均を引き、標準偏差の逆算でスケール変換する\n",
    "#これでmean=0,std=1になる\n",
    "X_train_scaled=(X_train-mean_on_train)/std_on_train\n",
    "#同様の変換をテストデータに\n",
    "X_test_scaled=(X_test-mean_on_train)/std_on_train\n",
    "\n",
    "mlp=MLPClassifier(random_state=0)\n",
    "mlp.fit(X_train_scaled,y_train)\n",
    "print(mlp.score(X_train_scaled,y_train))\n",
    "print(mlp.score(X_test_scaled,y_test))"
   ]
  },
  {
   "cell_type": "code",
   "execution_count": null,
   "metadata": {},
   "outputs": [],
   "source": [
    "mlp=MLPClassifier(max_iter=1000,random_state=0)\n",
    "mlp.fit(X_train_scaled,y_train)\n",
    "print(mlp.score(X_train_scaled,y_train))\n",
    "print(mlp.score(X_test_scaled,y_test))"
   ]
  },
  {
   "cell_type": "code",
   "execution_count": null,
   "metadata": {},
   "outputs": [],
   "source": [
    "mlp=MLPClassifier(max_iter=1000,alpha=1,random_state=0)\n",
    "mlp.fit(X_train_scaled,y_train)\n",
    "print(mlp.score(X_train_scaled,y_train))\n",
    "print(mlp.score(X_test_scaled,y_test))"
   ]
  },
  {
   "cell_type": "code",
   "execution_count": null,
   "metadata": {},
   "outputs": [],
   "source": [
    "plt.figure(figsize=(20,5))\n",
    "plt.imshow(mlp.coefs_[0],interpolation='none',cmap='viridis')\n",
    "plt.yticks(range(30),cancer.feature_names)\n",
    "plt.xlabel(\"Columns in weight matrix\")\n",
    "plt.ylabel(\"Input feature\")\n",
    "plt.colorbar()"
   ]
  }
 ]
}